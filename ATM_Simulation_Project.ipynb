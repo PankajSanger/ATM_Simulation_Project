{
  "nbformat": 4,
  "nbformat_minor": 0,
  "metadata": {
    "colab": {
      "provenance": [],
      "authorship_tag": "ABX9TyPVt/wPUuwTYJ1mKnmfavoC",
      "include_colab_link": true
    },
    "kernelspec": {
      "name": "python3",
      "display_name": "Python 3"
    },
    "language_info": {
      "name": "python"
    }
  },
  "cells": [
    {
      "cell_type": "markdown",
      "metadata": {
        "id": "view-in-github",
        "colab_type": "text"
      },
      "source": [
        "<a href=\"https://colab.research.google.com/github/PankajSanger/ATM_software-OOP-Practice-/blob/main/ATM_Simulation_Project.ipynb\" target=\"_parent\"><img src=\"https://colab.research.google.com/assets/colab-badge.svg\" alt=\"Open In Colab\"/></a>"
      ]
    },
    {
      "cell_type": "code",
      "execution_count": 24,
      "metadata": {
        "id": "3bq8aIYKDNkM"
      },
      "outputs": [],
      "source": [
        "class Atm:\n",
        "\n",
        "# Constructor\n",
        "  def __init__(self):\n",
        "    self.balance = int(input(\"Enter your Balance : \"))    #Initiating balance\n",
        "    self.pin = input(\"Enter your Pin : \")                 #Initiating pin\n",
        "    self.menu()\n",
        "\n",
        "# Menu\n",
        "  def menu(self):\n",
        "    option = input(\"\"\"\n",
        "    Select option:\n",
        "    a) Select 1 to check balance\n",
        "    b) Select 2 to withdraw\n",
        "    c) Select 3 to change pin\n",
        "    d) Select 4 to deposit\n",
        "    e) Select others to exit\n",
        "    \"\"\")\n",
        "    if option == \"1\":\n",
        "      self.check_balance()\n",
        "    elif option ==\"2\":\n",
        "      self.withdraw()\n",
        "    elif option ==\"3\":\n",
        "      self.change_pin()\n",
        "    elif option ==\"4\":\n",
        "      self.deposit()\n",
        "    else:\n",
        "      print(\"GoodBye!!\")\n",
        "\n",
        "# Check Balance\n",
        "  def check_balance(self):\n",
        "    mypin = input(\"Enter your pin : \")\n",
        "    if mypin == self.pin:\n",
        "      print(\"Your account balance is : \",self.balance)\n",
        "    else:\n",
        "      print(\"Incorrect pin, try again\")\n",
        "    self.menu()\n",
        "\n",
        "# Withdrawal\n",
        "  def withdraw(self):\n",
        "    amount = int(input(\"Enter amount : \"))\n",
        "    mypin = input(\"Enter your pin : \")\n",
        "    if mypin == self.pin:\n",
        "      if amount <= self.balance:\n",
        "        self.balance = self.balance - amount\n",
        "        print(\"Withdrawal Succesful\")\n",
        "        print(\"Updated balance : \",self.balance)\n",
        "      else:\n",
        "        print(\"You don't have enough balance\")\n",
        "    else:\n",
        "      print(\"Incorrect pin, try again\")\n",
        "    self.menu()\n",
        "\n",
        "# Change pin\n",
        "  def change_pin(self):\n",
        "    mypin = input(\"Enter your pin : \")\n",
        "    if mypin == self.pin:\n",
        "      new_pin = input(\"Enter new pin : \")\n",
        "      self.pin = new_pin\n",
        "      print(\"Pin changed successfully\")\n",
        "    else:\n",
        "      print(\"Incorrect pin, try again\")\n",
        "    self.menu()\n",
        "\n",
        "# Deposit\n",
        "  def deposit(self):\n",
        "    amount = int(input(\"Enter amount to deposit : \"))\n",
        "    mypin = input(\"Enter your pin : \")\n",
        "    if mypin == self.pin:\n",
        "      self.balance = self.balance + amount\n",
        "      print(\"Deposit Succesful\")\n",
        "      print(\"Updated balance : \",self.balance)\n",
        "    else:\n",
        "      print(\"Incorrect pin, try again\")\n",
        "    self.menu()\n",
        "\n"
      ]
    },
    {
      "cell_type": "code",
      "source": [
        "Object = Atm()"
      ],
      "metadata": {
        "colab": {
          "base_uri": "https://localhost:8080/"
        },
        "id": "vtqBkek7JiRx",
        "outputId": "9fbb5991-d16a-4d38-f164-836efd98712a"
      },
      "execution_count": 25,
      "outputs": [
        {
          "output_type": "stream",
          "name": "stdout",
          "text": [
            "Enter your Balance : 5000\n",
            "Enter your Pin : 1234\n",
            "\n",
            "    Select option:\n",
            "    a) Select 1 to check balance\n",
            "    b) Select 2 to withdraw\n",
            "    c) Select 3 to change pin\n",
            "    d) Select 4 to deposit\n",
            "    e) Select others to exit    \n",
            "    1\n",
            "Enter your pin : 1234\n",
            "Your account balance is :  5000\n",
            "\n",
            "    Select option:\n",
            "    a) Select 1 to check balance\n",
            "    b) Select 2 to withdraw\n",
            "    c) Select 3 to change pin\n",
            "    d) Select 4 to deposit\n",
            "    e) Select others to exit    \n",
            "    2\n",
            "Enter amount : 2000\n",
            "Enter your pin : 1234\n",
            "Withdrawal Succesful\n",
            "Updated balance :  3000\n",
            "\n",
            "    Select option:\n",
            "    a) Select 1 to check balance\n",
            "    b) Select 2 to withdraw\n",
            "    c) Select 3 to change pin\n",
            "    d) Select 4 to deposit\n",
            "    e) Select others to exit    \n",
            "    3\n",
            "Enter your pin : 1234\n",
            "Enter new pin : 5678\n",
            "Pin changed successfully\n",
            "\n",
            "    Select option:\n",
            "    a) Select 1 to check balance\n",
            "    b) Select 2 to withdraw\n",
            "    c) Select 3 to change pin\n",
            "    d) Select 4 to deposit\n",
            "    e) Select others to exit    \n",
            "    4\n",
            "Enter amount to deposit : 7000\n",
            "Enter your pin : 5678\n",
            "Deposit Succesful\n",
            "Updated balance :  10000\n",
            "\n",
            "    Select option:\n",
            "    a) Select 1 to check balance\n",
            "    b) Select 2 to withdraw\n",
            "    c) Select 3 to change pin\n",
            "    d) Select 4 to deposit\n",
            "    e) Select others to exit    \n",
            "    5\n",
            "GoodBye!!\n"
          ]
        }
      ]
    },
    {
      "cell_type": "code",
      "source": [
        "\n"
      ],
      "metadata": {
        "id": "o_dT4lkWKr_d"
      },
      "execution_count": null,
      "outputs": []
    }
  ]
}